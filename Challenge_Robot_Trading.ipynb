{
  "nbformat": 4,
  "nbformat_minor": 0,
  "metadata": {
    "colab": {
      "provenance": [],
      "authorship_tag": "ABX9TyPM7psc7u+KPj+O1OR7n0lz",
      "include_colab_link": true
    },
    "kernelspec": {
      "name": "python3",
      "display_name": "Python 3"
    },
    "language_info": {
      "name": "python"
    }
  },
  "cells": [
    {
      "cell_type": "markdown",
      "metadata": {
        "id": "view-in-github",
        "colab_type": "text"
      },
      "source": [
        "<a href=\"https://colab.research.google.com/github/Antonio-Richaud/Challenge-Robot-Trading/blob/main/Challenge_Robot_Trading.ipynb\" target=\"_parent\"><img src=\"https://colab.research.google.com/assets/colab-badge.svg\" alt=\"Open In Colab\"/></a>"
      ]
    },
    {
      "cell_type": "markdown",
      "source": [
        "#**Primer Desafio - Robot Trading (simple)**\n",
        "##*Por Antonio Richaud*\n"
      ],
      "metadata": {
        "id": "_qKST8HORG-5"
      }
    },
    {
      "cell_type": "markdown",
      "source": [
        "### 1. Configuración del ambiente"
      ],
      "metadata": {
        "id": "Gioj-5fpRgPL"
      }
    },
    {
      "cell_type": "markdown",
      "source": [
        "Listo el Google Colab para empezar a trabajar 🤠"
      ],
      "metadata": {
        "id": "m34ofp1jRzo0"
      }
    },
    {
      "cell_type": "code",
      "source": [],
      "metadata": {
        "id": "3QGKSdZzRDg8"
      },
      "execution_count": null,
      "outputs": []
    }
  ]
}